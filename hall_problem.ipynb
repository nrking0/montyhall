{
 "cells": [
  {
   "cell_type": "code",
   "execution_count": 39,
   "metadata": {},
   "outputs": [],
   "source": [
    "import random\n",
    "import numpy as np"
   ]
  },
  {
   "cell_type": "code",
   "execution_count": 41,
   "metadata": {},
   "outputs": [
    {
     "name": "stdout",
     "output_type": "stream",
     "text": [
      "10000 trials\n",
      "When switching doors we won  66.72  percent of the time.\n",
      "When staying we won  32.45  percent of the time.\n"
     ]
    }
   ],
   "source": [
    "ywins = 0\n",
    "ylose = 0\n",
    "nwins = 0\n",
    "nlose = 0\n",
    "n = 10000\n",
    "print(n, 'trials')\n",
    "\n",
    "\n",
    "for switch in range(2):\n",
    "    for j in range(n):\n",
    "        doors = np.array([1,2,3])\n",
    "        win = np.random.choice(doors)\n",
    "\n",
    "\n",
    "        #choice = input(\"Choose a door 1-3\\n\")\n",
    "        choice = np.random.choice(doors)\n",
    "\n",
    "        #print(doors, win, choice)\n",
    "\n",
    "        copy = [x for x in doors if x != int(choice) and x != win]\n",
    "\n",
    "        wrong = random.choice(copy)\n",
    "        #print(wrong, \"is not the right choice\")\n",
    "\n",
    "         #switch = input(\"Switch? y/n\\n\")\n",
    "\n",
    "        if switch:\n",
    "            choice = next(x for x in doors if x != wrong and x != choice)\n",
    "\n",
    "            \n",
    "        if choice == win:\n",
    "            #print('You Win!')\n",
    "            if switch:\n",
    "                ywins = ywins + 1\n",
    "            else:\n",
    "                nwins = nwins + 1\n",
    "        else:\n",
    "            #print('You Lose!', win, 'was correct!')\n",
    "            if switch:\n",
    "                ylose = ylose + 1\n",
    "            else:\n",
    "                nlose = nlose + 1\n",
    "                \n",
    "\n",
    "wswitch = round((ywins / (ylose + ywins)) * 100, 2)\n",
    "wstay = round((nwins / (nlose + nwins)) * 100, 2)\n",
    "print('When switching doors we won ', wswitch, ' percent of the time.')\n",
    "print('When staying we won ', wstay, ' percent of the time.')\n"
   ]
  },
  {
   "cell_type": "code",
   "execution_count": null,
   "metadata": {},
   "outputs": [],
   "source": []
  }
 ],
 "metadata": {
  "kernelspec": {
   "display_name": "Python 3",
   "language": "python",
   "name": "python3"
  },
  "language_info": {
   "codemirror_mode": {
    "name": "ipython",
    "version": 3
   },
   "file_extension": ".py",
   "mimetype": "text/x-python",
   "name": "python",
   "nbconvert_exporter": "python",
   "pygments_lexer": "ipython3",
   "version": "3.7.0"
  }
 },
 "nbformat": 4,
 "nbformat_minor": 4
}
