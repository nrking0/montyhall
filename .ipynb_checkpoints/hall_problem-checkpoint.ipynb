{
 "cells": [
  {
   "cell_type": "code",
   "execution_count": 5,
   "metadata": {},
   "outputs": [],
   "source": [
    "import random"
   ]
  },
  {
   "cell_type": "code",
   "execution_count": 7,
   "metadata": {},
   "outputs": [
    {
     "name": "stdout",
     "output_type": "stream",
     "text": [
      "10000 trials\n",
      "When switching doors we won  66.5  percent of the time.\n",
      "When staying we won  33.32  percent of the time.\n"
     ]
    }
   ],
   "source": [
    "ywins = 0\n",
    "ylose = 0\n",
    "nwins = 0\n",
    "nlose = 0\n",
    "n = 10000\n",
    "print(n, 'trials')\n",
    "\n",
    "\n",
    "for switch in range(2):\n",
    "    for j in range(n):\n",
    "        # Randomly choosing a winning door then choosing a door\n",
    "        doors = [1,2,3]\n",
    "        win = random.choice(doors)\n",
    "        choice = random.choice(doors)\n",
    "\n",
    "        # Picking a door to show as a wrong choice\n",
    "        copy = [x for x in doors if x != choice and x != win]\n",
    "        wrong = random.choice(copy)\n",
    "\n",
    "        # Switching door choice based on provided wrong door\n",
    "        if switch:\n",
    "            choice = next(x for x in doors if x != wrong and x != choice)\n",
    "\n",
    "        # Determine if winner and count accordingly \n",
    "        if choice == win:\n",
    "            if switch:\n",
    "                ywins += 1\n",
    "            else:\n",
    "                nwins += 1\n",
    "        else:\n",
    "            if switch:\n",
    "                ylose += 1\n",
    "            else:\n",
    "                nlose += 1\n",
    "                \n",
    "# Calculate average based on trials and display win percentages\n",
    "wswitch = round((ywins / (ylose + ywins)) * 100, 2)\n",
    "wstay = round((nwins / (nlose + nwins)) * 100, 2)\n",
    "print('When switching doors we won ', wswitch, ' percent of the time.')\n",
    "print('When staying we won ', wstay, ' percent of the time.')\n"
   ]
  },
  {
   "cell_type": "code",
   "execution_count": null,
   "metadata": {},
   "outputs": [],
   "source": []
  }
 ],
 "metadata": {
  "kernelspec": {
   "display_name": "Python 3",
   "language": "python",
   "name": "python3"
  },
  "language_info": {
   "codemirror_mode": {
    "name": "ipython",
    "version": 3
   },
   "file_extension": ".py",
   "mimetype": "text/x-python",
   "name": "python",
   "nbconvert_exporter": "python",
   "pygments_lexer": "ipython3",
   "version": "3.7.0"
  }
 },
 "nbformat": 4,
 "nbformat_minor": 4
}
